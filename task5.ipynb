{
  "nbformat": 4,
  "nbformat_minor": 0,
  "metadata": {
    "colab": {
      "provenance": []
    },
    "kernelspec": {
      "name": "python3",
      "display_name": "Python 3"
    },
    "language_info": {
      "name": "python"
    }
  },
  "cells": [
    {
      "cell_type": "code",
      "execution_count": 1,
      "metadata": {
        "id": "CY5-hCVDgy-o"
      },
      "outputs": [],
      "source": [
        "import tensorflow as tf\n",
        "from tensorflow import keras\n",
        "from keras import layers"
      ]
    },
    {
      "cell_type": "code",
      "source": [
        "# Load the CIFAR10 dataset\n",
        "(x_train, y_train), (x_test, y_test) = keras.datasets.cifar10.load_data()"
      ],
      "metadata": {
        "colab": {
          "base_uri": "https://localhost:8080/"
        },
        "id": "gDIaoZ0zhp6E",
        "outputId": "b1cfa595-ac26-4a21-ec42-5ca63d86d651"
      },
      "execution_count": 2,
      "outputs": [
        {
          "output_type": "stream",
          "name": "stdout",
          "text": [
            "Downloading data from https://www.cs.toronto.edu/~kriz/cifar-10-python.tar.gz\n",
            "170498071/170498071 [==============================] - 2s 0us/step\n"
          ]
        }
      ]
    },
    {
      "cell_type": "code",
      "source": [
        "# Normalize the pixel values to be between 0 and 1\n",
        "x_train = x_train.astype(\"float32\") / 255.0\n",
        "x_test = x_test.astype(\"float32\") / 255.0\n"
      ],
      "metadata": {
        "id": "IL85wJ6RjJHo"
      },
      "execution_count": 3,
      "outputs": []
    },
    {
      "cell_type": "code",
      "source": [
        "# Convert the labels to one-hot encoded vectors\n",
        "y_train = keras.utils.to_categorical(y_train, 10)\n",
        "y_test = keras.utils.to_categorical(y_test, 10)\n"
      ],
      "metadata": {
        "id": "em4X_QRbjPlN"
      },
      "execution_count": 4,
      "outputs": []
    },
    {
      "cell_type": "code",
      "source": [
        "# Define the model architecture\n",
        "model = keras.Sequential([\n",
        "    layers.Conv2D(32, (3, 3), activation='relu', input_shape=(32, 32, 3)),\n",
        "    layers.MaxPooling2D((2, 2)),\n",
        "    layers.Conv2D(64, (3, 3), activation='relu'),\n",
        "    layers.MaxPooling2D((2, 2)),\n",
        "    layers.Conv2D(64, (3, 3), activation='relu'),\n",
        "    layers.Flatten(),\n",
        "    layers.Dense(64, activation='relu'),\n",
        "    layers.Dense(10, activation='softmax')\n",
        "])\n"
      ],
      "metadata": {
        "id": "0tmD2t99jSnu"
      },
      "execution_count": 5,
      "outputs": []
    },
    {
      "cell_type": "code",
      "source": [
        "# Compile the model\n",
        "model.compile(optimizer='adam',\n",
        "              loss='categorical_crossentropy',\n",
        "              metrics=['accuracy'])"
      ],
      "metadata": {
        "id": "753lnLaUjXjE"
      },
      "execution_count": 6,
      "outputs": []
    },
    {
      "cell_type": "code",
      "source": [
        "\n",
        "# Train the model\n",
        "model.fit(x_train, y_train, epochs=10, validation_data=(x_test, y_test))"
      ],
      "metadata": {
        "colab": {
          "base_uri": "https://localhost:8080/"
        },
        "id": "lvBGVKpkjbhF",
        "outputId": "29e76e1f-6d6b-451f-e3b2-522521aa16a9"
      },
      "execution_count": 7,
      "outputs": [
        {
          "output_type": "stream",
          "name": "stdout",
          "text": [
            "Epoch 1/10\n",
            "1563/1563 [==============================] - 48s 30ms/step - loss: 1.5363 - accuracy: 0.4404 - val_loss: 1.3174 - val_accuracy: 0.5299\n",
            "Epoch 2/10\n",
            "1563/1563 [==============================] - 46s 30ms/step - loss: 1.1902 - accuracy: 0.5754 - val_loss: 1.0992 - val_accuracy: 0.6103\n",
            "Epoch 3/10\n",
            "1563/1563 [==============================] - 46s 29ms/step - loss: 1.0389 - accuracy: 0.6327 - val_loss: 1.0167 - val_accuracy: 0.6357\n",
            "Epoch 4/10\n",
            "1563/1563 [==============================] - 46s 29ms/step - loss: 0.9473 - accuracy: 0.6663 - val_loss: 1.0416 - val_accuracy: 0.6349\n",
            "Epoch 5/10\n",
            "1563/1563 [==============================] - 46s 30ms/step - loss: 0.8755 - accuracy: 0.6936 - val_loss: 0.9246 - val_accuracy: 0.6732\n",
            "Epoch 6/10\n",
            "1563/1563 [==============================] - 46s 30ms/step - loss: 0.8151 - accuracy: 0.7133 - val_loss: 0.9013 - val_accuracy: 0.6881\n",
            "Epoch 7/10\n",
            "1563/1563 [==============================] - 45s 29ms/step - loss: 0.7704 - accuracy: 0.7317 - val_loss: 0.8782 - val_accuracy: 0.6983\n",
            "Epoch 8/10\n",
            "1563/1563 [==============================] - 45s 29ms/step - loss: 0.7271 - accuracy: 0.7456 - val_loss: 0.9114 - val_accuracy: 0.6890\n",
            "Epoch 9/10\n",
            "1563/1563 [==============================] - 46s 29ms/step - loss: 0.6879 - accuracy: 0.7589 - val_loss: 0.9060 - val_accuracy: 0.6919\n",
            "Epoch 10/10\n",
            "1563/1563 [==============================] - 46s 30ms/step - loss: 0.6534 - accuracy: 0.7698 - val_loss: 0.8974 - val_accuracy: 0.6936\n"
          ]
        },
        {
          "output_type": "execute_result",
          "data": {
            "text/plain": [
              "<keras.callbacks.History at 0x7fa6e725ed70>"
            ]
          },
          "metadata": {},
          "execution_count": 7
        }
      ]
    },
    {
      "cell_type": "code",
      "source": [
        "# Evaluate the model\n",
        "score, acc = model.evaluate(x_test, y_test, batch_size=32)\n",
        "print('Test score:', score)\n",
        "print('Test accuracy:', acc)"
      ],
      "metadata": {
        "colab": {
          "base_uri": "https://localhost:8080/"
        },
        "id": "ZxsduvLhjgcV",
        "outputId": "5b3c85e2-9e03-48a2-ae93-371db6004391"
      },
      "execution_count": 8,
      "outputs": [
        {
          "output_type": "stream",
          "name": "stdout",
          "text": [
            "313/313 [==============================] - 3s 11ms/step - loss: 0.8974 - accuracy: 0.6936\n",
            "Test score: 0.8974074125289917\n",
            "Test accuracy: 0.6935999989509583\n"
          ]
        }
      ]
    },
    {
      "cell_type": "code",
      "source": [],
      "metadata": {
        "id": "wYHWw9HKQ3ug"
      },
      "execution_count": null,
      "outputs": []
    }
  ]
}